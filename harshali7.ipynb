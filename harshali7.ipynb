{
  "nbformat": 4,
  "nbformat_minor": 0,
  "metadata": {
    "colab": {
      "provenance": []
    },
    "kernelspec": {
      "name": "python3",
      "display_name": "Python 3"
    },
    "language_info": {
      "name": "python"
    }
  },
  "cells": [
    {
      "cell_type": "code",
      "execution_count": null,
      "metadata": {
        "id": "6ejNf5rLLPcf"
      },
      "outputs": [],
      "source": [
        "import pandas as pd"
      ]
    },
    {
      "cell_type": "code",
      "source": [
        "data = {\n",
        "    \"GrLivArea\": [1710, 1262, 1786, 1717, 2198, 1362, 1694, 2090, 1774, 1077],\n",
        "    \"BedroomAbvGr\": [3, 3, 3, 3, 4, 3, 3, 3, 3, 2],\n",
        "    \"FullBath\": [2, 2, 2, 1, 2, 1, 2, 2, 2, 1],\n",
        "    \"SalePrice\": [208500, 181500, 223500, 140000, 250000, 143000, 307000, 200000, 129900, 118000]\n",
        "}\n"
      ],
      "metadata": {
        "id": "xfL3PBiiLUvn"
      },
      "execution_count": null,
      "outputs": []
    },
    {
      "cell_type": "code",
      "source": [
        "# Create DataFrame\n",
        "df = pd.DataFrame(data)\n"
      ],
      "metadata": {
        "id": "-atWR1qaLrdt"
      },
      "execution_count": null,
      "outputs": []
    },
    {
      "cell_type": "code",
      "source": [
        "# Show dataset\n",
        "print(\"Dataset Loaded:\")\n",
        "print(df.head())\n",
        "\n"
      ],
      "metadata": {
        "colab": {
          "base_uri": "https://localhost:8080/"
        },
        "id": "sWSVCPeULzDY",
        "outputId": "9a8ef92c-9dcd-433e-84a5-5922cdad54c2"
      },
      "execution_count": null,
      "outputs": [
        {
          "output_type": "stream",
          "name": "stdout",
          "text": [
            "Dataset Loaded:\n",
            "   GrLivArea  BedroomAbvGr  FullBath  SalePrice\n",
            "0       1710             3         2     208500\n",
            "1       1262             3         2     181500\n",
            "2       1786             3         2     223500\n",
            "3       1717             3         1     140000\n",
            "4       2198             4         2     250000\n"
          ]
        }
      ]
    },
    {
      "cell_type": "code",
      "source": [
        "# Save as CSV (if you ever want to)\n",
        "df.to_csv('train.csv', index=False)"
      ],
      "metadata": {
        "id": "3huk9ejrL6u3"
      },
      "execution_count": null,
      "outputs": []
    },
    {
      "cell_type": "code",
      "source": [
        "import pandas as pd\n",
        "import numpy as np\n",
        "import matplotlib.pyplot as plt\n",
        "from sklearn.linear_model import LinearRegression\n",
        "from sklearn.model_selection import train_test_split\n",
        "from sklearn.preprocessing import StandardScaler\n",
        "from sklearn.metrics import mean_absolute_error, mean_squared_error, r2_score\n"
      ],
      "metadata": {
        "id": "brwtrNVbO2Sr"
      },
      "execution_count": null,
      "outputs": []
    },
    {
      "cell_type": "code",
      "source": [
        "data = {\n",
        "    \"GrLivArea\": [1710, 1262, 1786, 1717, 2198, 1362, 1694, 2090, 1774, 1077],\n",
        "    \"BedroomAbvGr\": [3, 3, 3, 3, 4, 3, 3, 3, 3, 2],\n",
        "    \"FullBath\": [2, 2, 2, 1, 2, 1, 2, 2, 2, 1],\n",
        "    \"SalePrice\": [208500, 181500, 223500, 140000, 250000, 143000, 307000, 200000, 129900, 118000]\n",
        "}\n"
      ],
      "metadata": {
        "id": "pkgx6GlrPLPa"
      },
      "execution_count": null,
      "outputs": []
    },
    {
      "cell_type": "code",
      "source": [
        "# ✅ 3. Create DataFrame\n",
        "df = pd.DataFrame(data)\n",
        "print(\"📊 Sample Dataset:\")\n",
        "print(df.head())"
      ],
      "metadata": {
        "colab": {
          "base_uri": "https://localhost:8080/"
        },
        "id": "5AqrO7jTPnjL",
        "outputId": "a52ac183-3563-4125-d755-7f7dd4517c97"
      },
      "execution_count": null,
      "outputs": [
        {
          "output_type": "stream",
          "name": "stdout",
          "text": [
            "📊 Sample Dataset:\n",
            "   GrLivArea  BedroomAbvGr  FullBath  SalePrice\n",
            "0       1710             3         2     208500\n",
            "1       1262             3         2     181500\n",
            "2       1786             3         2     223500\n",
            "3       1717             3         1     140000\n",
            "4       2198             4         2     250000\n"
          ]
        }
      ]
    },
    {
      "cell_type": "code",
      "source": [
        "# ✅ 4. Feature Selection\n",
        "X = df[['GrLivArea', 'BedroomAbvGr', 'FullBath']]\n",
        "y = df['SalePrice']\n",
        "\n"
      ],
      "metadata": {
        "id": "5CiF9t43Ptwo"
      },
      "execution_count": null,
      "outputs": []
    },
    {
      "cell_type": "code",
      "source": [
        "# ✅ 5. Train-Test Split\n",
        "X_train, X_test, y_train, y_test = train_test_split(\n",
        "    X, y, test_size=0.2, random_state=42)\n",
        "\n"
      ],
      "metadata": {
        "id": "UAxmcE1TP17D"
      },
      "execution_count": null,
      "outputs": []
    },
    {
      "cell_type": "code",
      "source": [
        "# ✅ 6. Feature Scaling (Normalization)\n",
        "scaler = StandardScaler()\n",
        "X_train_scaled = scaler.fit_transform(X_train)\n",
        "X_test_scaled = scaler.transform(X_test)\n"
      ],
      "metadata": {
        "id": "OUi_0nfmQEaC"
      },
      "execution_count": null,
      "outputs": []
    },
    {
      "cell_type": "code",
      "source": [
        "# ✅ 7. Train Linear Regression Model\n",
        "model = LinearRegression()\n",
        "model.fit(X_train_scaled, y_train)\n",
        "y_pred = model.predict(X_test_scaled)\n"
      ],
      "metadata": {
        "id": "smYz652dQJpe"
      },
      "execution_count": null,
      "outputs": []
    },
    {
      "cell_type": "code",
      "source": [
        "# ✅ 8. Evaluate the Model\n",
        "mae = mean_absolute_error(y_test, y_pred)\n",
        "rmse = np.sqrt(mean_squared_error(y_test, y_pred))  # Fixed\n",
        "r2 = r2_score(y_test, y_pred)\n",
        "\n",
        "print(\"\\n📈 Model Evaluation:\")\n",
        "print(f\"✅ Mean Absolute Error (MAE): {mae:.2f}\")\n",
        "print(f\"✅ Root Mean Squared Error (RMSE): {rmse:.2f}\")\n",
        "print(f\"✅ R² Score: {r2:.4f}\")"
      ],
      "metadata": {
        "colab": {
          "base_uri": "https://localhost:8080/"
        },
        "id": "ya83iD7XQSJT",
        "outputId": "2378de0e-4789-4a00-a9d1-4017f74fcd3b"
      },
      "execution_count": null,
      "outputs": [
        {
          "output_type": "stream",
          "name": "stdout",
          "text": [
            "\n",
            "📈 Model Evaluation:\n",
            "✅ Mean Absolute Error (MAE): 105503.74\n",
            "✅ Root Mean Squared Error (RMSE): 105525.40\n",
            "✅ R² Score: -15.7292\n"
          ]
        }
      ]
    },
    {
      "cell_type": "code",
      "source": [
        "# ✅ 9. Plot Actual vs Predicted Prices\n",
        "plt.figure(figsize=(8, 6))\n",
        "plt.scatter(y_test, y_pred, color='blue', alpha=0.7)\n",
        "plt.plot([y.min(), y.max()], [y.min(), y.max()], 'r--')\n",
        "plt.xlabel(\"Actual Sale Price\")\n",
        "plt.ylabel(\"Predicted Sale Price\")\n",
        "plt.title(\"Actual vs Predicted House Prices\")\n",
        "plt.grid(True)\n",
        "plt.show()"
      ],
      "metadata": {
        "colab": {
          "base_uri": "https://localhost:8080/",
          "height": 564
        },
        "id": "LQo7jsKfR9-z",
        "outputId": "c4e57749-a12e-4182-ebcc-9d0b40983557"
      },
      "execution_count": null,
      "outputs": [
        {
          "output_type": "display_data",
          "data": {
            "text/plain": [
              "<Figure size 800x600 with 1 Axes>"
            ],
            "image/png": "[encoded data removed]"
          },
          "metadata": {}
        }
      ]
    },
    {
      "cell_type": "code",
      "source": [
        "# ✅ 10. Compare Actual vs Predicted (in table)\n",
        "comparison = pd.DataFrame({\n",
        "    'Actual Price': y_test.values,\n",
        "    'Predicted Price': y_pred\n",
        "})\n",
        "print(\"\\n📋 Actual vs Predicted:\")\n",
        "print(comparison.head(10))"
      ],
      "metadata": {
        "colab": {
          "base_uri": "https://localhost:8080/"
        },
        "id": "o795vu1gSNcd",
        "outputId": "cfbea659-f653-441d-843b-e3ec02a20b57"
      },
      "execution_count": null,
      "outputs": [
        {
          "output_type": "stream",
          "name": "stdout",
          "text": [
            "\n",
            "📋 Actual vs Predicted:\n",
            "   Actual Price  Predicted Price\n",
            "0        129900    237541.737333\n",
            "1        181500    284865.734154\n"
          ]
        }
      ]
    }
  ]
}